{
 "cells": [
  {
   "cell_type": "markdown",
   "metadata": {},
   "source": [
    "## Índice\n",
    "\n",
    "Gráficos de estadística descriptiva realizados en notebooks.\n",
    "\n",
    "# Apartado de Vínculos\n",
    "\n",
    "- [Histograma](Histograma.ipynb)\n",
    "- [Polígono de Frecuencias](Poligono_de_Frec.ipynb)\n",
    "- [Ojiva](Ojiva.ipynb)\n",
    "- [Diagrama de barras horizontales](Grafica_de_Barras.ipynb)\n",
    "- [Diagrama de pastel](Pastel.ipynb)"
   ]
  }
 ],
 "metadata": {
  "language_info": {
   "name": "python"
  }
 },
 "nbformat": 4,
 "nbformat_minor": 2
}
